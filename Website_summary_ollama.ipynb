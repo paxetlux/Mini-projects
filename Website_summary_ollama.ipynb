{
 "cells": [
  {
   "cell_type": "code",
   "execution_count": 1,
   "id": "0d814aee-ff9e-431e-9176-19d900c4ade1",
   "metadata": {},
   "outputs": [],
   "source": [
    "# imports\n",
    "import requests\n",
    "import ollama\n",
    "from bs4 import BeautifulSoup\n",
    "from IPython.display import Markdown, display"
   ]
  },
  {
   "cell_type": "code",
   "execution_count": 2,
   "id": "f4146d4b-e6e9-449a-9502-3402ecd34b19",
   "metadata": {},
   "outputs": [],
   "source": [
    "#Constant\n",
    "\n",
    "MODEL = \"llama3.2:1b\""
   ]
  },
  {
   "cell_type": "code",
   "execution_count": 3,
   "id": "cd1d2729-14de-4293-a474-4a995efa6f15",
   "metadata": {},
   "outputs": [],
   "source": [
    "# A class to represent a Webpage\n",
    "\n",
    "# Some websites use proper headers when fetching them:\n",
    "headers = {\n",
    " \"User-Agent\": \"Mozilla/5.0 (Windows NT 10.0; Win64; x64) AppleWebKit/537.36 (KHTML, like Gecko) Chrome/117.0.0.0 Safari/537.36\"\n",
    "}\n",
    "\n",
    "class Website:\n",
    "\n",
    "    def __init__(self, url):\n",
    "        \"\"\"\n",
    "        Create this Website object from the given url using the BeautifulSoup library\n",
    "        \"\"\"\n",
    "        self.url = url\n",
    "        response = requests.get(url, headers=headers)\n",
    "        soup = BeautifulSoup(response.content, 'html.parser')\n",
    "        self.title = soup.title.string if soup.title else \"No title found\"\n",
    "        for irrelevant in soup.body([\"script\", \"style\", \"img\", \"input\"]):\n",
    "            irrelevant.decompose()\n",
    "        self.text = soup.body.get_text(separator=\"\\n\", strip=True)"
   ]
  },
  {
   "cell_type": "code",
   "execution_count": 4,
   "id": "a9e32a9b-7d49-48e0-ae52-86646ad680c4",
   "metadata": {},
   "outputs": [],
   "source": [
    "# Define system prompt\n",
    "\n",
    "system_prompt = \"You are an assistant that analyzes the contents of a website \\\n",
    "and provides a short summary, ignoring text that might be navigation related. \\\n",
    "Respond in markdown.\""
   ]
  },
  {
   "cell_type": "code",
   "execution_count": 5,
   "id": "e7407682-00c5-4012-8831-2134cb67c257",
   "metadata": {},
   "outputs": [],
   "source": [
    "# A function that writes a User Prompt that asks for summaries of websites:\n",
    "\n",
    "def user_prompt_for(website):\n",
    "    user_prompt = f\"You are looking at a website titled {website.title}\"\n",
    "    user_prompt += \"The contents of this website is as follows; \\\n",
    "please provide a short summary of this website in markdown. \\\n",
    "If it includes news or announcements, then summarize these too.\\n\\n\"\n",
    "    user_prompt += website.text\n",
    "    return user_prompt"
   ]
  },
  {
   "cell_type": "code",
   "execution_count": 6,
   "id": "cb0746ec-79b3-4592-b739-68200efb8ec3",
   "metadata": {},
   "outputs": [],
   "source": [
    "#Function to set roles\n",
    "def messages_for(website):\n",
    "    return [\n",
    "        {\"role\": \"system\", \"content\": system_prompt},\n",
    "        {\"role\": \"user\", \"content\": user_prompt_for(website)}\n",
    "    ]"
   ]
  },
  {
   "cell_type": "code",
   "execution_count": 7,
   "id": "65eb5595-0cbe-4888-9ef7-8d158e5a79d0",
   "metadata": {},
   "outputs": [],
   "source": [
    "#Call the Ollama function\n",
    "\n",
    "def summarize(url):\n",
    "    website = Website(url)\n",
    "    messages = messages_for(website)\n",
    "    response = ollama.chat(model=MODEL, messages=messages)\n",
    "    return response['message']['content']"
   ]
  },
  {
   "cell_type": "code",
   "execution_count": 8,
   "id": "e99dca16-935f-4f8f-a384-cb3c4de9745c",
   "metadata": {},
   "outputs": [],
   "source": [
    "# A function to display this nicely in the Jupyter output, using markdown\n",
    "\n",
    "def display_summary(url):\n",
    "    summary = summarize(url)\n",
    "    display(Markdown(summary))"
   ]
  },
  {
   "cell_type": "code",
   "execution_count": 9,
   "id": "1a3608cb-7fbb-49dc-8883-9d589533dbbe",
   "metadata": {},
   "outputs": [
    {
     "data": {
      "text/markdown": [
       "This is a list of news stories from various sources, including the BBC, that cover a range of topics such as sports, business, arts and culture, science and health, travel, and more. Here are some key points:\n",
       "\n",
       "**Sports**\n",
       "\n",
       "* Arsenal's manager Mikel Arteta has confirmed that his team will challenge for the Premier League title this season.\n",
       "* French skier Cyprien Sarrazin is out of the United Cup after suffering a serious injury.\n",
       "\n",
       "**Business and Finance**\n",
       "\n",
       "* BYD, a Chinese electric car manufacturer, has closed in on Tesla as sales jump.\n",
       "* A British house price index shows that UK house prices rose by 4.7% in 2024.\n",
       "\n",
       "**Arts and Culture**\n",
       "\n",
       "* The BBC has announced plans to produce new content in six new languages, including Korean, Spanish, and Arabic.\n",
       "* A US artist is looking back on his childhood stardom after being banned from driving for mobile phone use.\n",
       "\n",
       "**Health and Science**\n",
       "\n",
       "* Scientists have developed a new test that could rewrite British history by identifying cancers at an earlier stage.\n",
       "* The UK's National Health Service (NHS) has reported an increase in hangovers over the past year, with 6% of adults experiencing severe hangovers.\n",
       "\n",
       "**Environment and Travel**\n",
       "\n",
       "* Researchers are racing to study Antarctica before it melts, as its fragile ecosystem is vulnerable to climate change.\n",
       "* A Swiss hotel has been closed for 12 hours a day due to weather conditions.\n",
       "\n",
       "**Technology and Innovation**\n",
       "\n",
       "* The BBC's Newsbeat team has reported on the development of a new technology that helps protect against avalanches and snowfall in Arctic communities."
      ],
      "text/plain": [
       "<IPython.core.display.Markdown object>"
      ]
     },
     "metadata": {},
     "output_type": "display_data"
    }
   ],
   "source": [
    "display_summary(\"https://www.bbc.com\")"
   ]
  },
  {
   "cell_type": "code",
   "execution_count": null,
   "id": "5db9402c-e47a-4420-b58d-97a929af87e3",
   "metadata": {},
   "outputs": [],
   "source": []
  }
 ],
 "metadata": {
  "kernelspec": {
   "display_name": "Python 3 (ipykernel)",
   "language": "python",
   "name": "python3"
  },
  "language_info": {
   "codemirror_mode": {
    "name": "ipython",
    "version": 3
   },
   "file_extension": ".py",
   "mimetype": "text/x-python",
   "name": "python",
   "nbconvert_exporter": "python",
   "pygments_lexer": "ipython3",
   "version": "3.11.11"
  }
 },
 "nbformat": 4,
 "nbformat_minor": 5
}
